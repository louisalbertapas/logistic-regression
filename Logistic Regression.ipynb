{
 "cells": [
  {
   "cell_type": "code",
   "execution_count": 1,
   "id": "physical-combine",
   "metadata": {},
   "outputs": [],
   "source": [
    "import numpy as np\n",
    "import matplotlib.pyplot as plt\n",
    "import h5py\n",
    "\n",
    "%matplotlib inline"
   ]
  },
  {
   "cell_type": "code",
   "execution_count": 2,
   "id": "cognitive-category",
   "metadata": {},
   "outputs": [],
   "source": [
    "# Load a dataset\n",
    "\n",
    "dataset_train = h5py.File('datasets/train_set.h5', mode='r')\n",
    "train_set_x = np.array(dataset_train['train_set_x'][:])\n",
    "train_set_y = np.array(dataset_train['train_set_y'][:])\n",
    "\n",
    "dataset_test = h5py.File('datasets/test_set.h5', mode='r')\n",
    "test_set_x = np.array(dataset_test['test_set_x'][:])\n",
    "test_set_y = np.array(dataset_test['test_set_y'][:])\n",
    "\n",
    "classes = np.array(dataset_test['list_classes'][:])\n",
    "\n",
    "Y_train = train_set_y.reshape(1, train_set_y.shape[0])\n",
    "Y_test = test_set_y.reshape(1, test_set_y.shape[0])"
   ]
  },
  {
   "cell_type": "code",
   "execution_count": 3,
   "id": "naked-nevada",
   "metadata": {},
   "outputs": [],
   "source": [
    "# Flatten the pixels and reshape into unrowed pixels by m-number of examples\n",
    "train_set_x_unrowed = train_set_x.reshape(train_set_x.shape[1] * train_set_x.shape[2] * train_set_x.shape[3], train_set_x.shape[0])\n",
    "test_set_x_unrowed = test_set_x.reshape(test_set_x.shape[1] * test_set_x.shape[2] * test_set_x.shape[3], test_set_x.shape[0])"
   ]
  },
  {
   "cell_type": "code",
   "execution_count": 4,
   "id": "impaired-mechanics",
   "metadata": {},
   "outputs": [],
   "source": [
    "# Standardize the data set\n",
    "X_train = train_set_x_unrowed / 255\n",
    "X_test = test_set_x_unrowed / 255"
   ]
  },
  {
   "cell_type": "code",
   "execution_count": 5,
   "id": "revised-mediterranean",
   "metadata": {},
   "outputs": [],
   "source": [
    "# Helper function to calculate the sigmoid\n",
    "def sigmoid(z):\n",
    "    sig = 1 / (1 + np.exp(-z))\n",
    "    \n",
    "    return sig"
   ]
  },
  {
   "cell_type": "code",
   "execution_count": 6,
   "id": "sexual-yahoo",
   "metadata": {},
   "outputs": [],
   "source": [
    "# Helper function to initialize weights and bias with zero\n",
    "def initialize_parameters(dimension):\n",
    "    weights = np.zeros((dimension, 1))\n",
    "    bias = 0\n",
    "    \n",
    "    return weights, bias"
   ]
  },
  {
   "cell_type": "code",
   "execution_count": 7,
   "id": "acute-excitement",
   "metadata": {},
   "outputs": [],
   "source": [
    "# Helper function to do a single forward pass\n",
    "def forward_propagate(X, Y, weights, bias):\n",
    "    # Get the number of training examples\n",
    "    m = X.shape[1]\n",
    "    \n",
    "    # Calculate the z\n",
    "    z = np.dot(weights.T, X) + bias\n",
    "    \n",
    "    # Calculate activation A using sigmoid activation\n",
    "    A = sigmoid(z)\n",
    "    \n",
    "    # Calculate for the cost\n",
    "    cost = (-1/m) * np.sum(Y * np.log(A) + (1 - Y) * np.log(1 - A))\n",
    "    \n",
    "    cost = np.squeeze(cost)\n",
    "    \n",
    "    return A, cost"
   ]
  },
  {
   "cell_type": "code",
   "execution_count": 8,
   "id": "minute-quantum",
   "metadata": {},
   "outputs": [],
   "source": [
    "# Helper function to do a single backward pass\n",
    "def backward_propagate(X, Y, A):\n",
    "    # Calculate for the derivatives\n",
    "    m = X.shape[1]\n",
    "    dz = A - Y\n",
    "    dw = (1/m) * np.dot(X, dz.T)\n",
    "    db = (1/m) * np.sum(dz)\n",
    "    \n",
    "    return dw, db"
   ]
  },
  {
   "cell_type": "code",
   "execution_count": 9,
   "id": "african-detroit",
   "metadata": {},
   "outputs": [],
   "source": [
    "# Helper function to optimize weights and bias using gradient descent algorithm\n",
    "def gradient_descent(X, Y, weights, bias, iterations, learning_rate, print_cost=False):\n",
    "    costs = []\n",
    "    \n",
    "    for i in range(iterations):\n",
    "        # Compute for cost and gradient using propagate\n",
    "        A, cost = forward_propagate(X, Y, weights, bias)\n",
    "        dw, db = backward_propagate(X, Y, A)\n",
    "        \n",
    "        # Update weights and bias parameters\n",
    "        weights = weights - learning_rate * dw\n",
    "        bias = bias - learning_rate * db\n",
    "        \n",
    "        # Record cost\n",
    "        if i % 100 == 0:\n",
    "            costs.append(cost)\n",
    "        \n",
    "        # Print the cost every 100 iterations\n",
    "        if print_cost and i % 100 == 0:\n",
    "            print (\"Cost after iteration %i: %f\" %(i, cost))\n",
    "            \n",
    "    return weights, bias, dw, db, costs"
   ]
  },
  {
   "cell_type": "code",
   "execution_count": 10,
   "id": "stretch-radius",
   "metadata": {},
   "outputs": [],
   "source": [
    "def predict(X, weights, bias):\n",
    "    m = X.shape[1]\n",
    "    Y_pred = np.zeros((1, m))\n",
    "    \n",
    "    A = sigmoid(np.dot(weights.T, X) + bias)\n",
    "    \n",
    "    for i in range(A.shape[1]):\n",
    "        if A[0,i] <= 0.5:\n",
    "            Y_pred[0,i] = 0\n",
    "        else:\n",
    "            Y_pred[0,i] = 1\n",
    "    \n",
    "    return Y_pred"
   ]
  },
  {
   "cell_type": "code",
   "execution_count": 11,
   "id": "sustainable-collar",
   "metadata": {},
   "outputs": [],
   "source": [
    "def logistic_regression_model(X_train, Y_train, X_test, Y_test, iterations=2000, learning_rate=0.5, print_cost=False):\n",
    "    weights, bias = initialize_parameters(X_train.shape[0])\n",
    "    weights, bias, dw, db, costs = gradient_descent(X_train, Y_train, weights, bias, iterations, learning_rate, print_cost)\n",
    "    \n",
    "    Y_pred_train = predict(X_train, weights, bias)\n",
    "    Y_pred_test = predict(X_test, weights, bias)\n",
    "\n",
    "    print(\"train accuracy: {} %\".format(100 - np.mean(np.abs(Y_pred_train - Y_train)) * 100))\n",
    "    print(\"test accuracy: {} %\".format(100 - np.mean(np.abs(Y_pred_test - Y_test)) * 100))\n",
    "\n",
    "    \n",
    "    model = {\"costs\": costs,\n",
    "         \"Y_pred_train\": Y_pred_train, \n",
    "         \"Y_pred_test\" : Y_pred_test, \n",
    "         \"weights\" : weights, \n",
    "         \"bias\" : bias,\n",
    "         \"learning_rate\" : learning_rate,\n",
    "         \"iterations\": iterations}\n",
    "    \n",
    "    return model"
   ]
  },
  {
   "cell_type": "code",
   "execution_count": 12,
   "id": "missing-dependence",
   "metadata": {},
   "outputs": [
    {
     "name": "stdout",
     "output_type": "stream",
     "text": [
      "Cost after iteration 0: 0.693147\n",
      "Cost after iteration 100: 0.709726\n",
      "Cost after iteration 200: 0.657712\n",
      "Cost after iteration 300: 0.614611\n",
      "Cost after iteration 400: 0.578001\n",
      "Cost after iteration 500: 0.546372\n",
      "Cost after iteration 600: 0.518331\n",
      "Cost after iteration 700: 0.492852\n",
      "Cost after iteration 800: 0.469259\n",
      "Cost after iteration 900: 0.447139\n",
      "Cost after iteration 1000: 0.426262\n",
      "Cost after iteration 1100: 0.406617\n",
      "Cost after iteration 1200: 0.388723\n",
      "Cost after iteration 1300: 0.374678\n",
      "Cost after iteration 1400: 0.365826\n",
      "Cost after iteration 1500: 0.358532\n",
      "Cost after iteration 1600: 0.351612\n",
      "Cost after iteration 1700: 0.345012\n",
      "Cost after iteration 1800: 0.338704\n",
      "Cost after iteration 1900: 0.332664\n",
      "train accuracy: 91.38755980861244 %\n",
      "test accuracy: 34.0 %\n"
     ]
    }
   ],
   "source": [
    "model = logistic_regression_model(X_train, Y_train, X_test, Y_test, iterations=2000, learning_rate=0.005, print_cost=True)"
   ]
  },
  {
   "cell_type": "code",
   "execution_count": 13,
   "id": "fleet-queensland",
   "metadata": {},
   "outputs": [
    {
     "data": {
      "image/png": "[encoded data removed]",
      "text/plain": [
       "<Figure size 432x288 with 1 Axes>"
      ]
     },
     "metadata": {
      "needs_background": "light"
     },
     "output_type": "display_data"
    }
   ],
   "source": [
    "# Plot learning curve (with costs)\n",
    "costs = np.squeeze(model['costs'])\n",
    "plt.plot(costs)\n",
    "plt.ylabel('cost')\n",
    "plt.xlabel('iterations (per hundreds)')\n",
    "plt.title(\"Learning rate =\" + str(model[\"learning_rate\"]))\n",
    "plt.show()"
   ]
  },
  {
   "cell_type": "code",
   "execution_count": 14,
   "id": "gorgeous-republic",
   "metadata": {},
   "outputs": [
    {
     "name": "stdout",
     "output_type": "stream",
     "text": [
      "iterations: 2000\n",
      "train accuracy: 91.38755980861244 %\n",
      "test accuracy: 34.0 %\n",
      "\n",
      "****************************************\n",
      "\n",
      "iterations: 3000\n",
      "train accuracy: 93.77990430622009 %\n",
      "test accuracy: 34.0 %\n",
      "\n",
      "****************************************\n",
      "\n",
      "iterations: 4000\n",
      "train accuracy: 97.12918660287082 %\n",
      "test accuracy: 34.0 %\n",
      "\n",
      "****************************************\n",
      "\n"
     ]
    }
   ],
   "source": [
    "iterations = [2000, 3000, 4000]\n",
    "models = {}\n",
    "for i in iterations:\n",
    "    print(\"iterations: \" + str(i))\n",
    "    models[str(i)] = logistic_regression_model(X_train, Y_train, X_test, Y_test, iterations=i, learning_rate=0.005, print_cost=False)\n",
    "    print('\\n****************************************\\n')"
   ]
  },
  {
   "cell_type": "code",
   "execution_count": 15,
   "id": "about-negative",
   "metadata": {},
   "outputs": [
    {
     "name": "stdout",
     "output_type": "stream",
     "text": [
      "learning rate: 0.01\n",
      "train accuracy: 73.6842105263158 %\n",
      "test accuracy: 34.0 %\n",
      "\n",
      "****************************************\n",
      "\n",
      "learning rate: 0.001\n",
      "train accuracy: 74.64114832535886 %\n",
      "test accuracy: 34.0 %\n",
      "\n",
      "****************************************\n",
      "\n",
      "learning rate: 0.0001\n",
      "train accuracy: 66.98564593301435 %\n",
      "test accuracy: 34.0 %\n",
      "\n",
      "****************************************\n",
      "\n"
     ]
    }
   ],
   "source": [
    "learning_rates = [0.01, 0.001, 0.0001]\n",
    "models = {}\n",
    "for i in learning_rates:\n",
    "    print(\"learning rate: \" + str(i))\n",
    "    models[str(i)] = logistic_regression_model(X_train, Y_train, X_test, Y_test, iterations=2000, learning_rate=i, print_cost=False)\n",
    "    print('\\n****************************************\\n')"
   ]
  }
 ],
 "metadata": {
  "kernelspec": {
   "display_name": "Python 3.7 (with TensorFlow GPU)",
   "language": "python",
   "name": "tensorflow"
  },
  "language_info": {
   "codemirror_mode": {
    "name": "ipython",
    "version": 3
   },
   "file_extension": ".py",
   "mimetype": "text/x-python",
   "name": "python",
   "nbconvert_exporter": "python",
   "pygments_lexer": "ipython3",
   "version": "3.7.9"
  }
 },
 "nbformat": 4,
 "nbformat_minor": 5
}
